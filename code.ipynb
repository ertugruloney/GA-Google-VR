{
 "cells": [
  {
   "cell_type": "code",
   "execution_count": 23,
   "id": "e8a6bcf2",
   "metadata": {},
   "outputs": [],
   "source": [
    "import pandas as pd\n",
    "\n",
    "import googlemaps\n",
    "def google_distance():\n",
    "    data=pd.read_csv('one_route_example.csv')\n",
    "    \n",
    "    API_key = ''#enter Google Maps API key\n",
    "    gmaps = googlemaps.Client(key=API_key)\n",
    "    distance=[[0 for i in range(len(data))]  for i in range(len(data))]\n",
    "    for (i1, row1) in data.iterrows():\n",
    "        LatOrigin = row1['latitude']\n",
    "        LongOrigin = row1['longitude']\n",
    "        origin = (LatOrigin, LongOrigin)\n",
    "        origin_id = row1['route_id'] \n",
    "        for (i2, row2) in  data.iterrows():\n",
    "            LatDestination = row2['latitude']\n",
    "            LongDestination = row2['longitude']\n",
    "            destination_id = row2['route_id']\n",
    "            destination = (LatDestination, LongDestination)\n",
    "            result = gmaps.distance_matrix(origin, destination, mode = 'driving')\n",
    "            result_distance = result[\"rows\"][0][\"elements\"][0][\"distance\"][\"value\"]\n",
    "            result_time = result[\"rows\"][0][\"elements\"][0][\"duration\"][\"value\"]\n",
    "            distance[i1][i2]=float(result_time)\n",
    "        \n",
    "    return distance"
   ]
  },
  {
   "cell_type": "code",
   "execution_count": 24,
   "id": "c78bc4f9",
   "metadata": {},
   "outputs": [],
   "source": [
    "import numpy as np\n",
    "from scipy.spatial.distance import cdist\n",
    "import pandas as pd\n",
    "\n",
    "# Constants\n",
    "POPULATION_SIZE = 50\n",
    "CROSSOVER_RATE = 0.8\n",
    "MUTATION_RATE = 0.02\n",
    "GENERATIONS = 100\n"
   ]
  },
  {
   "cell_type": "code",
   "execution_count": 25,
   "id": "7eb80b4f",
   "metadata": {},
   "outputs": [],
   "source": [
    "#adding warehouse information\n",
    "distance_matrixN =np.array(google_distance())\n",
    "distance_matrix=np.zeros([len(distance_matrixN)-1,len(distance_matrixN)-1])\n",
    "for i in range(1,len(distance_matrixN)):\n",
    "    for j in range(1,len(distance_matrixN)):\n",
    "            distance_matrix[i-1,j-1]=distance_matrixN [i][j]"
   ]
  },
  {
   "cell_type": "code",
   "execution_count": 26,
   "id": "d14bc40c",
   "metadata": {},
   "outputs": [],
   "source": [
    "# Function to calculate the total distance of a route\n",
    "def calculate_total_distance(route):\n",
    "    total_distance = 0\n",
    "    for i in range(len(route) - 1):\n",
    "        total_distance += distance_matrix[route[i], route[i + 1]]\n",
    "    total_distance+=distance_matrixN[0][route[0]+1]+distance_matrixN[0][route[-1]+1]\n",
    "    return total_distance"
   ]
  },
  {
   "cell_type": "code",
   "execution_count": 27,
   "id": "3595e5f8",
   "metadata": {},
   "outputs": [],
   "source": [
    "\n",
    "# Function to create an initial population\n",
    "def initialize_population(num_customers):\n",
    "    return [np.random.permutation(num_customers) for _ in range(POPULATION_SIZE)]"
   ]
  },
  {
   "cell_type": "code",
   "execution_count": 28,
   "id": "27addb98",
   "metadata": {},
   "outputs": [],
   "source": [
    "# Function to perform tournament selection\n",
    "def tournament_selection(population, fitness_values):\n",
    "    selected_indices = np.random.choice(len(population), size=2, replace=False)\n",
    "    return population[selected_indices[np.argmin(fitness_values[selected_indices])]]"
   ]
  },
  {
   "cell_type": "code",
   "execution_count": 29,
   "id": "0e761263",
   "metadata": {},
   "outputs": [],
   "source": [
    "\n",
    "# Function to perform order crossover (OX)\n",
    "def order_crossover(parent1, parent2):\n",
    "    start = np.random.randint(1, len(parent1) - 1)  # Exclude depot\n",
    "    end = np.random.randint(start + 1, len(parent1))\n",
    "    \n",
    "    child = [-1] * len(parent1)\n",
    "    child[start:end] = parent1[start:end]\n",
    "    \n",
    "    remaining_indices = [i for i in parent2 if i not in child]\n",
    "    child[:start] = remaining_indices[:start]\n",
    "    child[end:] = remaining_indices[start:]\n",
    "    \n",
    "    return child"
   ]
  },
  {
   "cell_type": "code",
   "execution_count": 30,
   "id": "34d994e8",
   "metadata": {},
   "outputs": [],
   "source": [
    "# Function to perform mutation (swap)\n",
    "def swap_mutation(route):\n",
    "    mutated_route = route.copy()\n",
    "    index1, index2 = np.random.choice(len(route) - 1, size=2, replace=False) + 1  # Exclude depot\n",
    "    mutated_route[index1], mutated_route[index2] = mutated_route[index2], mutated_route[index1]\n",
    "    return mutated_route"
   ]
  },
  {
   "cell_type": "code",
   "execution_count": 31,
   "id": "e6405653",
   "metadata": {},
   "outputs": [],
   "source": [
    "# Function to perform routing using genetic algorithm\n",
    "def genetic_algorithm():\n",
    "    num_customers = len(distance_matrixN)-1\n",
    "    population = initialize_population(num_customers)\n",
    "    \n",
    "    for generation in range(GENERATIONS):\n",
    "        fitness_values = np.array([calculate_total_distance([0] + route + [0]) for route in population])\n",
    "        sorted_indices = np.argsort(fitness_values)\n",
    "        \n",
    "        # Elitism: Preserve the best individuals\n",
    "        elite_size = int(0.1 * POPULATION_SIZE)\n",
    "        elite = [population[i] for i in sorted_indices[:elite_size]]\n",
    "        \n",
    "        new_population = elite\n",
    "        \n",
    "        while len(new_population) < POPULATION_SIZE:\n",
    "            if np.random.rand() < CROSSOVER_RATE:\n",
    "                parent1 = tournament_selection(population, fitness_values)\n",
    "                parent2 = tournament_selection(population, fitness_values)\n",
    "                child = order_crossover(parent1, parent2)\n",
    "            else:\n",
    "                child = tournament_selection(population, fitness_values)\n",
    "            \n",
    "            if np.random.rand() < MUTATION_RATE:\n",
    "                child = swap_mutation(child)\n",
    "            \n",
    "            new_population.append(child)\n",
    "        \n",
    "        population = np.array(new_population)\n",
    "    \n",
    "    # Find the best route and print the result\n",
    "    best_route = population[np.argmin(fitness_values)]\n",
    "    best_distance = calculate_total_distance([0] + best_route + [0])\n",
    "    print(f\"Best route: {[0] + best_route + [0]}\")  # Add depot at the beginning and end\n",
    "    print(f\"Total distance: {best_distance}\")\n",
    "    return best_route"
   ]
  },
  {
   "cell_type": "code",
   "execution_count": 32,
   "id": "9106c619",
   "metadata": {},
   "outputs": [
    {
     "name": "stdout",
     "output_type": "stream",
     "text": [
      "Best route: [2 0 1 3]\n",
      "Total distance: 2423.0\n"
     ]
    }
   ],
   "source": [
    "# Run the genetic algorithm\n",
    "best=genetic_algorithm()"
   ]
  },
  {
   "cell_type": "code",
   "execution_count": 33,
   "id": "7f1742f4",
   "metadata": {},
   "outputs": [],
   "source": [
    "import gmplot\n",
    "import pandas as pd\n",
    "apikey = '' # (your API key here)\n",
    "\n",
    "data=pd.read_csv('one_route_example.csv')\n",
    "a=data.iloc[0,3]\n",
    "gmap = gmplot.GoogleMapPlotter(data.iloc[0,3], data.iloc[0,4], zoom = 14, apikey=apikey)\n",
    "\n",
    "gmap.directions(\n",
    "    (data.iloc[0,3],data.iloc[0,4]),\n",
    "    (data.iloc[best[0]+1,3],data.iloc[best[0]+1,4]),\n",
    "    title='Adsa')\n",
    "for i in range(len(best)-1):\n",
    "    gmap.directions(\n",
    "    (data.iloc[best[i]+1,3],data.iloc[best[i]+1,4]),\n",
    "    (data.iloc[best[i+1]+1,3],data.iloc[best[i+1]+1,4]))\n",
    "gmap.directions(\n",
    "    \n",
    "    (data.iloc[best[i+1]+1,3],data.iloc[best[i+1]+1,4]),(data.iloc[0,3],data.iloc[0,4]))\n",
    "gmap.draw('route.html')"
   ]
  },
  {
   "cell_type": "code",
   "execution_count": null,
   "id": "2cb3a4e2",
   "metadata": {},
   "outputs": [],
   "source": []
  }
 ],
 "metadata": {
  "kernelspec": {
   "display_name": "Python 3 (ipykernel)",
   "language": "python",
   "name": "python3"
  },
  "language_info": {
   "codemirror_mode": {
    "name": "ipython",
    "version": 3
   },
   "file_extension": ".py",
   "mimetype": "text/x-python",
   "name": "python",
   "nbconvert_exporter": "python",
   "pygments_lexer": "ipython3",
   "version": "3.9.12"
  }
 },
 "nbformat": 4,
 "nbformat_minor": 5
}
